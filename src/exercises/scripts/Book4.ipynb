{
 "cells": [
  {
   "cell_type": "code",
   "execution_count": 1,
   "id": "38680fdb",
   "metadata": {},
   "outputs": [],
   "source": [
    "#!/usr/bin/env python3"
   ]
  },
  {
   "cell_type": "code",
   "execution_count": 2,
   "id": "51395a0c",
   "metadata": {},
   "outputs": [],
   "source": [
    "import math\n",
    "import numpy as np\n",
    "import rospy\n",
    "import time\n",
    "from sensor_msgs.msg import LaserScan\n",
    "from geometry_msgs.msg import Twist , PoseStamped\n",
    "import smach"
   ]
  },
  {
   "cell_type": "code",
   "execution_count": 3,
   "id": "b4d5e18c",
   "metadata": {},
   "outputs": [],
   "source": [
    "import ros_numpy\n",
    "from utils_evasion import *\n",
    "import tf2_ros"
   ]
  },
  {
   "cell_type": "code",
   "execution_count": 4,
   "id": "3203acad",
   "metadata": {},
   "outputs": [],
   "source": [
    "########## Functions for takeshi states ##########\n",
    "\n",
    "\n",
    "def get_coords ():\n",
    "    for i in range(10):   ###TF might be late, try 10 times\n",
    "        try:\n",
    "            trans = tfBuffer.lookup_transform('map', 'base_link', rospy.Time())\n",
    "            return trans\n",
    "        except:\n",
    "            print ('waiting for tf')\n",
    "            trans=0"
   ]
  },
  {
   "cell_type": "code",
   "execution_count": 5,
   "id": "17a578f8",
   "metadata": {},
   "outputs": [],
   "source": [
    "def move_base_vel(vx, vy, vw):\n",
    "    twist = Twist()\n",
    "    twist.linear.x = vx\n",
    "    twist.linear.y = vy\n",
    "    twist.angular.z = vw \n",
    "    base_vel_pub.publish(twist)"
   ]
  },
  {
   "cell_type": "code",
   "execution_count": 6,
   "id": "5b417b2a",
   "metadata": {},
   "outputs": [],
   "source": [
    "def move_base(x,y,yaw,timeout=5):\n",
    "    start_time = rospy.Time.now().to_sec()\n",
    "    while rospy.Time.now().to_sec() - start_time < timeout:  \n",
    "        move_base_vel(x, y, yaw) "
   ]
  },
  {
   "cell_type": "code",
   "execution_count": 7,
   "id": "37a01ea2",
   "metadata": {},
   "outputs": [],
   "source": [
    "def move_forward():\n",
    "    move_base(0.15,0,0,2.5)\n",
    "def move_backward():\n",
    "    move_base(-0.15,0,0,1.5)\n",
    "def turn_left():\n",
    "    move_base(0.0,0,0.12*np.pi,2)\n",
    "def turn_right():\n",
    "    move_base(0.0,0,-0.12*np.pi,2)"
   ]
  },
  {
   "cell_type": "code",
   "execution_count": 8,
   "id": "147480c5",
   "metadata": {},
   "outputs": [],
   "source": [
    "def get_lectura_cuant():\n",
    "    try:\n",
    "        lectura=np.asarray(laser.get_data().ranges)\n",
    "        lectura=np.where(lectura>20,20,lectura) #remove infinito\n",
    "\n",
    "        right_scan=lectura[:300]\n",
    "        left_scan=lectura[300:]\n",
    "        ront_scan=lectura[300:360]\n",
    "\n",
    "        sd,si,sf=0,0\n",
    "        if np.mean(left_scan)< 3: si=1\n",
    "        if np.mean(right_scan)< 3: sd=1\n",
    "        if np.mean(ront_scan)< 3: sf=1\n",
    "\n",
    "    except:\n",
    "        sd,si,sf=0,0    \n",
    "\n",
    "    return si,sd,sf"
   ]
  },
  {
   "cell_type": "code",
   "execution_count": 9,
   "id": "db9b98d1",
   "metadata": {},
   "outputs": [],
   "source": [
    "##### Define state INITIAL #####\n",
    "\n",
    "class Inicio (smach.State):\n",
    "    def __init__(self):\n",
    "        smach.State.__init__(self, outcomes=['succ','fail']) #shor for success\n",
    "        \n",
    "        \n",
    "\n",
    "\n",
    "    def execute(self,userdata):\n",
    "    \t# Aqui va lo que se desea ejecutar en el estado\n",
    "    \t\n",
    "    \t#posicionar robot\n",
    "\n",
    "        print('inicializando')\n",
    "        ########\n",
    "        \n",
    "        rospy.sleep(1)#### dar tiempo al arbol de tfs de publicarse\n",
    "        \n",
    "       \n",
    "        ##### agregue código para leer la meta en el tópico adecuado\n",
    "        meta_leida = PoseStamped()\n",
    "        meta_leida = rospy.Subscriber('/meta_competencia', PoseStamped, queue_size=10)\n",
    "        \n",
    "        ############\n",
    "\n",
    "\n",
    "        ######################################################################\n",
    "        ##meta_leida = PoseStamped() \n",
    "         ##### EJEMPLO los equipos deben leer la meta del topico, comentar esta linea\n",
    "        ####################################################################\n",
    "        punto_inicial = get_coords()\n",
    "        print ( 'tiempo = '+ str(punto_inicial.header.stamp.to_sec()) , punto_inicial.transform )\n",
    "        print ('meta leida', meta_leida)\n",
    "        print('arrancando')\n",
    "        return 'succ'"
   ]
  },
  {
   "cell_type": "code",
   "execution_count": 10,
   "id": "0f9d6d69",
   "metadata": {
    "scrolled": true
   },
   "outputs": [
    {
     "name": "stdout",
     "output_type": "stream",
     "text": [
      "arrancando\n"
     ]
    }
   ],
   "source": [
    "print('arrancando')"
   ]
  },
  {
   "cell_type": "code",
   "execution_count": 11,
   "id": "693e0583",
   "metadata": {},
   "outputs": [
    {
     "ename": "NameError",
     "evalue": "name 'meta_leida' is not defined",
     "output_type": "error",
     "traceback": [
      "\u001b[0;31m---------------------------------------------------------------------------\u001b[0m",
      "\u001b[0;31mNameError\u001b[0m                                 Traceback (most recent call last)",
      "Input \u001b[0;32mIn [11]\u001b[0m, in \u001b[0;36m<cell line: 1>\u001b[0;34m()\u001b[0m\n\u001b[0;32m----> 1\u001b[0m \u001b[38;5;28mprint\u001b[39m (\u001b[38;5;124m'\u001b[39m\u001b[38;5;124mmeta leida\u001b[39m\u001b[38;5;124m'\u001b[39m, \u001b[43mmeta_leida\u001b[49m)\n",
      "\u001b[0;31mNameError\u001b[0m: name 'meta_leida' is not defined"
     ]
    }
   ],
   "source": [
    "        print ('meta leida', meta_leida)\n"
   ]
  },
  {
   "cell_type": "code",
   "execution_count": 12,
   "id": "b6cc0de6",
   "metadata": {},
   "outputs": [
    {
     "ename": "NameError",
     "evalue": "name 'twist' is not defined",
     "output_type": "error",
     "traceback": [
      "\u001b[0;31m---------------------------------------------------------------------------\u001b[0m",
      "\u001b[0;31mNameError\u001b[0m                                 Traceback (most recent call last)",
      "Input \u001b[0;32mIn [12]\u001b[0m, in \u001b[0;36m<cell line: 1>\u001b[0;34m()\u001b[0m\n\u001b[0;32m----> 1\u001b[0m \u001b[38;5;28mprint\u001b[39m(\u001b[43mtwist\u001b[49m)\n",
      "\u001b[0;31mNameError\u001b[0m: name 'twist' is not defined"
     ]
    }
   ],
   "source": [
    "print(twist)"
   ]
  },
  {
   "cell_type": "code",
   "execution_count": null,
   "id": "ce0bbeb7",
   "metadata": {},
   "outputs": [],
   "source": []
  }
 ],
 "metadata": {
  "kernelspec": {
   "display_name": "Python 3 (ipykernel)",
   "language": "python",
   "name": "python3"
  },
  "language_info": {
   "codemirror_mode": {
    "name": "ipython",
    "version": 3
   },
   "file_extension": ".py",
   "mimetype": "text/x-python",
   "name": "python",
   "nbconvert_exporter": "python",
   "pygments_lexer": "ipython3",
   "version": "3.8.10"
  }
 },
 "nbformat": 4,
 "nbformat_minor": 5
}
